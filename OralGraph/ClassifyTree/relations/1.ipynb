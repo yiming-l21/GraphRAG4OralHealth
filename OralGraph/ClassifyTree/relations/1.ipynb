{
 "cells": [
  {
   "cell_type": "code",
   "execution_count": 96,
   "metadata": {},
   "outputs": [],
   "source": [
    "import json\n",
    "with open(\"/home/lym/GraphRAG4OralHealth/OralGraph/ClassifyTree/dicease_revised.json\",\"r\",encoding=\"utf-8\") as f:\n",
    "    disease=json.load(f)\n",
    "symptom=\"修复后疼痛\"\n",
    "disease_name=\"牙髓病\"\n",
    "def parse_tree(disease,disease_name,flag=False):\n",
    "    result=[]\n",
    "    for keys,values in disease.items():\n",
    "        if keys==disease_name:\n",
    "            result.append(disease_name)\n",
    "            if \"包含\" in values.keys():\n",
    "                result.extend(parse_tree(values['包含'],disease_name,True))\n",
    "        else:\n",
    "            if \"包含\" in values.keys():\n",
    "                if flag==True:\n",
    "                    result.append(keys)\n",
    "                    result.extend(parse_tree(values['包含'],disease_name,True))\n",
    "                else:\n",
    "                    result.extend(parse_tree(values['包含'],disease_name,False))\n",
    "            elif flag==True:\n",
    "                result.append(keys)\n",
    "    return result\n",
    "with open(\"/home/lym/GraphRAG4OralHealth/OralGraph/ClassifyTree/relations/疾病表现为症状.txt\",\"a\",encoding=\"utf-8\") as f:\n",
    "    result=parse_tree(disease,disease_name)\n",
    "    for res in result:\n",
    "        f.write(f\"{res} {symptom}\\n\")\n",
    "        "
   ]
  }
 ],
 "metadata": {
  "kernelspec": {
   "display_name": "base",
   "language": "python",
   "name": "python3"
  },
  "language_info": {
   "codemirror_mode": {
    "name": "ipython",
    "version": 3
   },
   "file_extension": ".py",
   "mimetype": "text/x-python",
   "name": "python",
   "nbconvert_exporter": "python",
   "pygments_lexer": "ipython3",
   "version": "3.12.4"
  }
 },
 "nbformat": 4,
 "nbformat_minor": 2
}
