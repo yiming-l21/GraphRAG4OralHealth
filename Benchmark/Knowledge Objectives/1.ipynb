{
 "cells": [
  {
   "cell_type": "code",
   "execution_count": 3,
   "metadata": {},
   "outputs": [
    {
     "name": "stdout",
     "output_type": "stream",
     "text": [
      "2159\n",
      "2752\n",
      "2785\n",
      "2853\n",
      "2861\n",
      "2870\n",
      "2881\n",
      "2892\n",
      "2897\n",
      "2901\n",
      "2903\n",
      "2906\n",
      "2910\n",
      "2917\n",
      "2925\n",
      "2927\n",
      "2931\n",
      "2933\n",
      "2936\n",
      "2937\n",
      "2946\n",
      "2950\n",
      "2952\n",
      "2958\n",
      "2960\n",
      "2962\n",
      "2964\n",
      "2968\n",
      "2974\n",
      "2977\n",
      "2983\n",
      "2995\n",
      "2998\n"
     ]
    }
   ],
   "source": [
    "responses = []\n",
    "import json\n",
    "response_path = \"/home/lym/GraphRAG4OralHealth/Benchmark/Knowledge Objectives/2d648ad1-917e-4be5-8fa2-befb0c3c1497_1744992291840_success.jsonl\"\n",
    "with open(response_path, \"r\", encoding=\"utf-8\") as f:\n",
    "    for line in f:\n",
    "        if line.strip():\n",
    "            print(line)\n",
    "            data = json.loads(line)\n",
    "            msg = data[\"response\"][\"body\"][\"choices\"][0][\"message\"]\n",
    "            responses.append({\n",
    "                \"id\": data[\"custom_id\"],\n",
    "                \"prediction\": msg.get(\"content\", \"\").strip(),\n",
    "                \"reason\": msg.get(\"reasoning_content\", \"\").strip()\n",
    "            })\n",
    "save_path=\"/home/lym/GraphRAG4OralHealth/Benchmark/Knowledge Objectives/success.jsonl\"\n",
    "\n",
    "#如果id不连续，补上空response\n",
    "id = 1\n",
    "for req in responses: \n",
    "    if req[\"id\"] != \"request-\"+str(id):\n",
    "        print(id)\n",
    "        \n",
    "        responses.insert(id-1, {\n",
    "            \"id\": \"request-\"+str(id),\n",
    "            \"prediction\": \"\",\n",
    "            \"reason\": \"\"\n",
    "        })\n",
    "    id += 1\n",
    "with open(save_path, \"w\", encoding=\"utf-8\") as f:\n",
    "    for response in responses:\n",
    "        f.write(json.dumps(response, ensure_ascii=False) + \"\\n\")"
   ]
  }
 ],
 "metadata": {
  "kernelspec": {
   "display_name": "base",
   "language": "python",
   "name": "python3"
  },
  "language_info": {
   "codemirror_mode": {
    "name": "ipython",
    "version": 3
   },
   "file_extension": ".py",
   "mimetype": "text/x-python",
   "name": "python",
   "nbconvert_exporter": "python",
   "pygments_lexer": "ipython3",
   "version": "3.12.4"
  }
 },
 "nbformat": 4,
 "nbformat_minor": 2
}
