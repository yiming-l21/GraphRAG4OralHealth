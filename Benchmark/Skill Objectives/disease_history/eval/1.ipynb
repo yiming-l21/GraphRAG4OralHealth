{
 "cells": [
  {
   "cell_type": "code",
   "execution_count": 1,
   "metadata": {},
   "outputs": [],
   "source": [
    "import json\n",
    "with open(\"/home/lym/GraphRAG4OralHealth/Benchmark/Skill Objectives/disease_history/eval/DentalMind_base_eval.json\", \"r\",encoding=\"utf-8\") as f:\n",
    "    data_base=[json.loads(line) for line in f]\n",
    "with open(\"/home/lym/GraphRAG4OralHealth/Benchmark/Skill Objectives/disease_history/eval/DentalMind_graph_eval.json\", \"r\",encoding=\"utf-8\") as f:\n",
    "    data_graph=[json.loads(line) for line in f]"
   ]
  },
  {
   "cell_type": "code",
   "execution_count": 5,
   "metadata": {},
   "outputs": [
    {
     "name": "stdout",
     "output_type": "stream",
     "text": [
      "4 9\n",
      "Case1\n",
      "8 9\n",
      "Case9\n",
      "5 6\n",
      "Case18\n",
      "5 6\n",
      "Case20\n",
      "6 8\n",
      "Case35\n",
      "6 8\n",
      "Case38\n",
      "6 9\n",
      "Case39\n",
      "7 8\n",
      "Case50\n",
      "7 8\n",
      "Case51\n",
      "6 9\n",
      "Case53\n",
      "5 6\n",
      "Case56\n",
      "5 6\n",
      "Case59\n",
      "4 5\n",
      "Case63\n",
      "6 8\n",
      "Case65\n",
      "6 9\n",
      "Case74\n"
     ]
    }
   ],
   "source": [
    "for item1,item2 in zip(data_base,data_graph):\n",
    "    if item1['总分']>item2['总分']:\n",
    "        print(item1['总分'],item2['总分'])\n",
    "        print(item1['qid'])"
   ]
  },
  {
   "cell_type": "code",
   "execution_count": 11,
   "metadata": {},
   "outputs": [
    {
     "name": "stdout",
     "output_type": "stream",
     "text": [
      "[{'qid': 'Case3'}, {'qid': 'Case5'}, {'qid': 'Case10'}, {'qid': 'Case11'}, {'qid': 'Case12'}, {'qid': 'Case13'}, {'qid': 'Case14'}, {'qid': 'Case26'}, {'qid': 'Case27'}, {'qid': 'Case29'}, {'qid': 'Case35'}, {'qid': 'Case37'}, {'qid': 'Case38'}, {'qid': 'Case39'}, {'qid': 'Case40'}, {'qid': 'Case41'}, {'qid': 'Case42'}, {'qid': 'Case44'}, {'qid': 'Case47'}, {'qid': 'Case48'}, {'qid': 'Case53'}, {'qid': 'Case54'}, {'qid': 'Case55'}, {'qid': 'Case58'}, {'qid': 'Case62'}, {'qid': 'Case64'}, {'qid': 'Case65'}, {'qid': 'Case68'}, {'qid': 'Case74'}]\n"
     ]
    }
   ],
   "source": [
    "q_list=[{\"qid\":item['qid']} for item in item_list]\n",
    "print(q_list)"
   ]
  }
 ],
 "metadata": {
  "kernelspec": {
   "display_name": "base",
   "language": "python",
   "name": "python3"
  },
  "language_info": {
   "codemirror_mode": {
    "name": "ipython",
    "version": 3
   },
   "file_extension": ".py",
   "mimetype": "text/x-python",
   "name": "python",
   "nbconvert_exporter": "python",
   "pygments_lexer": "ipython3",
   "version": "3.12.4"
  }
 },
 "nbformat": 4,
 "nbformat_minor": 2
}
